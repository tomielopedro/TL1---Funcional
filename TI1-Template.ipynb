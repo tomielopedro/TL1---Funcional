{
 "cells": [
  {
   "cell_type": "markdown",
   "id": "578bf0e2",
   "metadata": {},
   "source": [
    "# [Prof. Otávio Parraga](mailto:otavio.parraga@pucrs.br)\n",
    "\n",
    "## Programação Orientada a Dados (POD) - Turma 11 (POD_98H04-06) 2025/1\n",
    "\n",
    "**Descrição**: Trabalho Individual: Programação Funcional\n",
    "\n",
    "**Copyright &copy;**: Este documento está sob a licensa da Criative Commons [BY-NC-ND 4.0](https://creativecommons.org/licenses/by-nc-nd/4.0/legalcode)\n",
    "\n",
    "**Dataset**: [Pokemon](https://gist.github.com/armgilles/194bcff35001e7eb53a2a8b441e8b2c6)"
   ]
  },
  {
   "cell_type": "markdown",
   "id": "1e9d313f",
   "metadata": {},
   "source": [
    "Definição resumida sobre funções do paradigma funcional: são funções que são puras, que não apresentam efeito colateral, podem ser de alta ordem, podem ser currificadas e não utilizam laços de repetição.\n",
    "\n",
    "Atenção: Explicar como funcionam todas as funções criadas através de comentário do Python (`#`). Você também será avaliado por esta explicação. "
   ]
  },
  {
   "cell_type": "markdown",
   "id": "52f59dc7",
   "metadata": {},
   "source": [
    "### Trabalho realizado por:"
   ]
  },
  {
   "cell_type": "markdown",
   "id": "aa965839",
   "metadata": {},
   "source": [
    "[COLOQUE AQUI SEU NOME]"
   ]
  },
  {
   "cell_type": "markdown",
   "id": "63b3507e",
   "metadata": {},
   "source": [
    "# Parte 1: Dataset Pokemon"
   ]
  },
  {
   "cell_type": "markdown",
   "id": "980263bd",
   "metadata": {},
   "source": [
    "### Recursos auxiliares\n",
    "Abaixo você encontra as **Únicas bibliotecas permitidas** para este trabalho:\n",
    "\n",
    "```python\n",
    "import csv\n",
    "import functools\n",
    "import itertools\n",
    "import operator\n",
    "```\n",
    "\n",
    "Além das bibliotecas permitidas, abaixo ainda estão as funções auxiliares que você pode utilizar para testar suas implementações. Elas não são do paradigma funcional, mas são necessárias para a avaliação."
   ]
  },
  {
   "cell_type": "code",
   "execution_count": null,
   "id": "5a8e80a2",
   "metadata": {},
   "outputs": [],
   "source": [
    "import csv\n",
    "from functools import reduce\n",
    "from itertools import groupby\n",
    "# from operator import *\n",
    "\n",
    "def mostra_dados(nome_arq, f, *args):\n",
    "    \"\"\"\n",
    "    Função auxiliar para mostrar o resultado da execução de uma função do paradigma funcional.\n",
    "    A função abre um arquivo CSV e passa para função do paradigma funcional um objeto DictReader e \n",
    "    depois mostra o resultado na tela.\n",
    "    \"\"\"\n",
    "    with open(nome_arq, \"r\", encoding='utf-8-sig') as arq:\n",
    "        dados = csv.DictReader(arq, delimiter=',')\n",
    "        fdados = f(dados, *args)\n",
    "        try:\n",
    "            iterator = iter(fdados)\n",
    "        except TypeError:\n",
    "            print(fdados)\n",
    "        else:\n",
    "            for linha in fdados:\n",
    "                print(linha)\n",
    "                \n",
    "def salvar_dados(nome_arq, new_file, f):\n",
    "    \"\"\"\n",
    "    Função auxiliar que chama uma função do paradigma funcional e depois salva o resultado em um arquivo CSV!\n",
    "    A função abre um arquivo CSV e passa para função do paradigma funcional um objeto DictReader e \n",
    "    depois salva a saída em um arquivo CSV\n",
    "    \"\"\"\n",
    "    with open(nome_arq, \"r\", encoding='utf-8-sig') as arq:\n",
    "        dados=csv.DictReader(arq, delimiter=',')\n",
    "        fdados = list(f(dados))\n",
    "        fieldnames = fdados[0].keys()\n",
    "        \n",
    "    with open(new_file, \"w\", encoding='utf-8-sig') as arq:\n",
    "        try:\n",
    "            iterator=iter(fdados)\n",
    "        except TypeError:\n",
    "            return False\n",
    "        else:\n",
    "            writer = csv.DictWriter(arq, fieldnames=fieldnames)\n",
    "            writer.writeheader()\n",
    "            for i in fdados:\n",
    "                writer.writerow(i)"
   ]
  },
  {
   "cell_type": "markdown",
   "id": "0df5c63e",
   "metadata": {},
   "source": [
    "## 1. Limpe o conjunto de dados aplicando as seguintes regras:\n",
    "1. Para os pokémons que não possuem o segundo `Type 2`, coloque o mesmo valor do `Type 1` no `Type 2`.\n",
    "2. Transforme os nomes dos pokémons para letras minúsculas.\n",
    "3. Adicionar uma coluna nova `TipoDefinitivo` composta pela concatenação dos dois tipos de cada pokemon\n",
    "   (por exemplo, se o `Type 1` for \"Fire\" e o `Type 2` for \"Flying\", o `TipoDefinitivo` será \"Fire-eFlying\").\n",
    "4. Salve o conjunto de dados limpo em um arquivo chamado `pokemon_clean.csv`.\n",
    "\n",
    "### Exemplo de saída no novo csv:\n",
    "```python\n",
    "{'#': '1', 'Name': 'bulbasaur', 'Type 1': 'Grass', 'Type 2': 'Poison', 'Total': '318', 'HP': '45', 'Attack': '49', 'Defense': '49', 'Sp. Atk': '65', 'Sp. Def': '65', 'Speed': '45', 'Generation': '1', 'Legendary': 'False', 'TipoDefinitivo': 'Grass-Poison'}\n",
    "{'#': '2', 'Name': 'ivysaur', 'Type 1': 'Grass', 'Type 2': 'Poison', 'Total': '405', 'HP': '60', 'Attack': '62', 'Defense': '63', 'Sp. Atk': '80', 'Sp. Def': '80', 'Speed': '60', 'Generation': '1', 'Legendary': 'False', 'TipoDefinitivo': 'Grass-Poison'}\n",
    "{'#': '3', 'Name': 'venusaur', 'Type 1': 'Grass', 'Type 2': 'Poison', 'Total': '525', 'HP': '80', 'Attack': '82', 'Defense': '83', 'Sp. Atk': '100', 'Sp. Def': '100', 'Speed': '80', 'Generation': '1', 'Legendary': 'False', 'TipoDefinitivo': 'Grass-Poison'}\n",
    "{'#': '3', 'Name': 'venusaurmega venusaur', 'Type 1': 'Grass', 'Type 2': 'Poison', 'Total': '625', 'HP': '80', 'Attack': '100', 'Defense': '123', 'Sp. Atk': '122', 'Sp. Def': '120', 'Speed': '80', 'Generation': '1', 'Legendary': 'False', 'TipoDefinitivo': 'Grass-Poison'}\n",
    "{'#': '4', 'Name': 'charmander', 'Type 1': 'Fire', 'Type 2': 'Fire', 'Total': '309', 'HP': '39', 'Attack': '52', 'Defense': '43', 'Sp. Atk': '60', 'Sp. Def': '50', 'Speed': '65', 'Generation': '1', 'Legendary': 'False', 'TipoDefinitivo': 'Fire-Fire'}\n",
    "{'#': '5', 'Name': 'charmeleon', 'Type 1': 'Fire', 'Type 2': 'Fire', 'Total': '405', 'HP': '58', 'Attack': '64', 'Defense': '58', 'Sp. Atk': '80', 'Sp. Def': '65', 'Speed': '80', 'Generation': '1', 'Legendary': 'False', 'TipoDefinitivo': 'Fire-Fire'}\n",
    "...\n",
    "```\n"
   ]
  },
  {
   "cell_type": "code",
   "execution_count": null,
   "id": "0f7c4551",
   "metadata": {},
   "outputs": [],
   "source": []
  },
  {
   "cell_type": "markdown",
   "id": "7693a7d2",
   "metadata": {},
   "source": [
    "## 2. Contabilize quntos pokémons existem por geração\n",
    "\n",
    "### Exemplo de saída:\n",
    "```python\n",
    "('1', 166)\n",
    "('2', 106)\n",
    "('3', 160)\n",
    "('4', 121)\n",
    "('5', 165)\n",
    "('6', 82)\n",
    "```"
   ]
  },
  {
   "cell_type": "code",
   "execution_count": null,
   "id": "4570fa6e",
   "metadata": {},
   "outputs": [],
   "source": []
  },
  {
   "cell_type": "markdown",
   "id": "f5283cdd",
   "metadata": {},
   "source": [
    "## 3. Aponte qual o pokémon com maior valor de `Speed` para cada `TipoDefinitivo`\n",
    "\n",
    "### Exemplo de saída:\n",
    "```python\n",
    "('Bug-Bug', {'#': '617', 'Name': 'accelgor', 'Type 1': 'Bug', 'Type 2': 'Bug', 'Total': '495', 'HP': '80', 'Attack': '70', 'Defense': '40', 'Sp. Atk': '100', 'Sp. Def': '60', 'Speed': '145', 'Generation': '5', 'Legendary': 'False', 'TipoDefinitivo': 'Bug-Bug'})\n",
    "('Bug-Electric', {'#': '596', 'Name': 'galvantula', 'Type 1': 'Bug', 'Type 2': 'Electric', 'Total': '472', 'HP': '70', 'Attack': '77', 'Defense': '60', 'Sp. Atk': '97', 'Sp. Def': '60', 'Speed': '108', 'Generation': '5', 'Legendary': 'False', 'TipoDefinitivo': 'Bug-Electric'})\n",
    "('Bug-Fighting', {'#': '214', 'Name': 'heracross', 'Type 1': 'Bug', 'Type 2': 'Fighting', 'Total': '500', 'HP': '80', 'Attack': '125', 'Defense': '75', 'Sp. Atk': '40', 'Sp. Def': '95', 'Speed': '85', 'Generation': '2', 'Legendary': 'False', 'TipoDefinitivo': 'Bug-Fighting'})\n",
    "('Bug-Fire', {'#': '637', 'Name': 'volcarona', 'Type 1': 'Bug', 'Type 2': 'Fire', 'Total': '550', 'HP': '85', 'Attack': '60', 'Defense': '65', 'Sp. Atk': '135', 'Sp. Def': '105', 'Speed': '100', 'Generation': '5', 'Legendary': 'False', 'TipoDefinitivo': 'Bug-Fire'})\n",
    "('Bug-Flying', {'#': '291', 'Name': 'ninjask', 'Type 1': 'Bug', 'Type 2': 'Flying', 'Total': '456', 'HP': '61', 'Attack': '90', 'Defense': '45', 'Sp. Atk': '50', 'Sp. Def': '50', 'Speed': '160', 'Generation': '3', 'Legendary': 'False', 'TipoDefinitivo': 'Bug-Flying'})\n",
    "('Bug-Ghost', {'#': '292', 'Name': 'shedinja', 'Type 1': 'Bug', 'Type 2': 'Ghost', 'Total': '236', 'HP': '1', 'Attack': '90', 'Defense': '45', 'Sp. Atk': '30', 'Sp. Def': '30', 'Speed': '40', 'Generation': '3', 'Legendary': 'False', 'TipoDefinitivo': 'Bug-Ghost'})\n",
    "```"
   ]
  },
  {
   "cell_type": "code",
   "execution_count": null,
   "id": "df37316c",
   "metadata": {},
   "outputs": [],
   "source": []
  },
  {
   "cell_type": "markdown",
   "id": "5e371363",
   "metadata": {},
   "source": [
    "## 4. Calcule a média de `HP` por geração para as gerações 1, 2 e 3.\n",
    "\n",
    "### Exemplo de saída:\n",
    "```python\n",
    "('1', 65.81927710843374)\n",
    "('2', 71.20754716981132)\n",
    "('3', 66.54375)\n",
    "```"
   ]
  },
  {
   "cell_type": "code",
   "execution_count": null,
   "id": "edd713de",
   "metadata": {},
   "outputs": [],
   "source": []
  },
  {
   "cell_type": "markdown",
   "id": "2d153a3c",
   "metadata": {},
   "source": [
    "# Parte 2: Listas encadeadas\n",
    "Lembre-se, que todas as funções utilizadas devem seguir o paradigma funcional, ou seja, não devem utilizar laços de repetição e devem ser puras."
   ]
  },
  {
   "cell_type": "markdown",
   "id": "1b8cd885-1cd1-43eb-855a-989e622b9178",
   "metadata": {},
   "source": [
    "### Funções Auxiliares"
   ]
  },
  {
   "cell_type": "code",
   "execution_count": null,
   "id": "02b2022c",
   "metadata": {},
   "outputs": [],
   "source": [
    "def head(L):\n",
    "    return L[0]\n",
    "\n",
    "def tail(L):\n",
    "    return L[1]"
   ]
  },
  {
   "cell_type": "markdown",
   "id": "2c376a68",
   "metadata": {},
   "source": [
    "### Lista para testes:"
   ]
  },
  {
   "cell_type": "code",
   "execution_count": null,
   "id": "5f0496a8",
   "metadata": {},
   "outputs": [],
   "source": [
    "LL = (4, (12, (5, (-18, (-12, (16, (3, None)))))))"
   ]
  },
  {
   "cell_type": "markdown",
   "id": "48e7eb20-2d36-4819-87a1-348f9679118e",
   "metadata": {},
   "source": [
    "## 5. Implemente uma função `primeLL` deve recebe uma lista encadeada `LL` de modo que produza uma nova lista `LL` somente com os números que são primos.\n",
    "\n",
    "### Exemplo de saída:\n",
    "```python\n",
    "LL = (4, (12, (5, (-18, (-12, (16, (3, None)))))))\n",
    "print(primeLL(LL))  # Saída: (5, (3, None))\n",
    "```"
   ]
  },
  {
   "cell_type": "code",
   "execution_count": null,
   "id": "f25f60c1",
   "metadata": {},
   "outputs": [],
   "source": []
  },
  {
   "cell_type": "markdown",
   "id": "4e6c417a",
   "metadata": {},
   "source": [
    "## 6. Implemente uma função `fibonacciLL` que recebe um número `n` e retorne uma lista encadeada `LL` com os `n` primeiros números da sequência de Fibonacci.\n",
    "\n",
    "### Exemplo de saída:\n",
    "```python\n",
    "print(fibonacciLL(10))  # Saída: (0, (1, (1, (2, (3, (5, (8, (13, (21, (34, None))))))))))\n",
    "```"
   ]
  },
  {
   "cell_type": "code",
   "execution_count": null,
   "id": "0443b6ec",
   "metadata": {},
   "outputs": [],
   "source": []
  }
 ],
 "metadata": {
  "kernelspec": {
   "display_name": "python3",
   "language": "python",
   "name": "python3"
  },
  "language_info": {
   "codemirror_mode": {
    "name": "ipython",
    "version": 3
   },
   "file_extension": ".py",
   "mimetype": "text/x-python",
   "name": "python",
   "nbconvert_exporter": "python",
   "pygments_lexer": "ipython3",
   "version": "3.9.15"
  }
 },
 "nbformat": 4,
 "nbformat_minor": 5
}
